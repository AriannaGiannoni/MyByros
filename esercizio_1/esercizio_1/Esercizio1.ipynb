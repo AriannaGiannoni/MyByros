{
  "nbformat": 4,
  "nbformat_minor": 0,
  "metadata": {
    "colab": {
      "provenance": [],
      "mount_file_id": "1BImgqBFp8q21fWWjTdhsVNP2-LjXka-0",
      "authorship_tag": "ABX9TyPKE92G+Pk0PGBripoGT9ZA",
      "include_colab_link": true
    },
    "kernelspec": {
      "name": "python3",
      "display_name": "Python 3"
    },
    "language_info": {
      "name": "python"
    }
  },
  "cells": [
    {
      "cell_type": "markdown",
      "metadata": {
        "id": "view-in-github",
        "colab_type": "text"
      },
      "source": [
        "<a href=\"https://colab.research.google.com/github/AriannaGiannoni/MyByros_Challenge/blob/main/Untitled0.ipynb\" target=\"_parent\"><img src=\"https://colab.research.google.com/assets/colab-badge.svg\" alt=\"Open In Colab\"/></a>"
      ]
    },
    {
      "cell_type": "code",
      "execution_count": 1,
      "metadata": {
        "colab": {
          "base_uri": "https://localhost:8080/",
          "height": 363
        },
        "id": "GK6AOfqCnfya",
        "outputId": "d897a195-0d61-4bbf-c613-d84a2e28b930"
      },
      "outputs": [
        {
          "output_type": "execute_result",
          "data": {
            "text/plain": [
              "      filename        data       ora  totale    partita iva\n",
              "0  0000001.jpg    00/00/00     00:00   €0,00    00000000000\n",
              "1  0000002.jpg  00.0.00000     00:00   00,00    00000000000\n",
              "2  0000003.jpg  00-00-0000     00:00     00,    00000000000\n",
              "3  0000004.jpg  00-00-0000     00:00    0,00    00000000000\n",
              "4  0000005.jpg  00/00/0000     00:00   00,00   00000000000;\n",
              "5  0000006.jpg    00/00/00     00:00   00,00  00000000-0-00\n",
              "6  0000007.jpg  00-00-0000     00:00   00,00    00000000000\n",
              "7  0000008.jpg  0000/00/00     00:00  $00.00    00000000000\n",
              "8  0000009.jpg       0/000     00:00    0.00    00000000000\n",
              "9  0000010.jpg    00/00/00  00:00:00    0.00    00000000000"
            ],
            "text/html": [
              "\n",
              "  <div id=\"df-47294cec-089a-40ac-8c1f-df94e34d2a21\" class=\"colab-df-container\">\n",
              "    <div>\n",
              "<style scoped>\n",
              "    .dataframe tbody tr th:only-of-type {\n",
              "        vertical-align: middle;\n",
              "    }\n",
              "\n",
              "    .dataframe tbody tr th {\n",
              "        vertical-align: top;\n",
              "    }\n",
              "\n",
              "    .dataframe thead th {\n",
              "        text-align: right;\n",
              "    }\n",
              "</style>\n",
              "<table border=\"1\" class=\"dataframe\">\n",
              "  <thead>\n",
              "    <tr style=\"text-align: right;\">\n",
              "      <th></th>\n",
              "      <th>filename</th>\n",
              "      <th>data</th>\n",
              "      <th>ora</th>\n",
              "      <th>totale</th>\n",
              "      <th>partita iva</th>\n",
              "    </tr>\n",
              "  </thead>\n",
              "  <tbody>\n",
              "    <tr>\n",
              "      <th>0</th>\n",
              "      <td>0000001.jpg</td>\n",
              "      <td>00/00/00</td>\n",
              "      <td>00:00</td>\n",
              "      <td>€0,00</td>\n",
              "      <td>00000000000</td>\n",
              "    </tr>\n",
              "    <tr>\n",
              "      <th>1</th>\n",
              "      <td>0000002.jpg</td>\n",
              "      <td>00.0.00000</td>\n",
              "      <td>00:00</td>\n",
              "      <td>00,00</td>\n",
              "      <td>00000000000</td>\n",
              "    </tr>\n",
              "    <tr>\n",
              "      <th>2</th>\n",
              "      <td>0000003.jpg</td>\n",
              "      <td>00-00-0000</td>\n",
              "      <td>00:00</td>\n",
              "      <td>00,</td>\n",
              "      <td>00000000000</td>\n",
              "    </tr>\n",
              "    <tr>\n",
              "      <th>3</th>\n",
              "      <td>0000004.jpg</td>\n",
              "      <td>00-00-0000</td>\n",
              "      <td>00:00</td>\n",
              "      <td>0,00</td>\n",
              "      <td>00000000000</td>\n",
              "    </tr>\n",
              "    <tr>\n",
              "      <th>4</th>\n",
              "      <td>0000005.jpg</td>\n",
              "      <td>00/00/0000</td>\n",
              "      <td>00:00</td>\n",
              "      <td>00,00</td>\n",
              "      <td>00000000000;</td>\n",
              "    </tr>\n",
              "    <tr>\n",
              "      <th>5</th>\n",
              "      <td>0000006.jpg</td>\n",
              "      <td>00/00/00</td>\n",
              "      <td>00:00</td>\n",
              "      <td>00,00</td>\n",
              "      <td>00000000-0-00</td>\n",
              "    </tr>\n",
              "    <tr>\n",
              "      <th>6</th>\n",
              "      <td>0000007.jpg</td>\n",
              "      <td>00-00-0000</td>\n",
              "      <td>00:00</td>\n",
              "      <td>00,00</td>\n",
              "      <td>00000000000</td>\n",
              "    </tr>\n",
              "    <tr>\n",
              "      <th>7</th>\n",
              "      <td>0000008.jpg</td>\n",
              "      <td>0000/00/00</td>\n",
              "      <td>00:00</td>\n",
              "      <td>$00.00</td>\n",
              "      <td>00000000000</td>\n",
              "    </tr>\n",
              "    <tr>\n",
              "      <th>8</th>\n",
              "      <td>0000009.jpg</td>\n",
              "      <td>0/000</td>\n",
              "      <td>00:00</td>\n",
              "      <td>0.00</td>\n",
              "      <td>00000000000</td>\n",
              "    </tr>\n",
              "    <tr>\n",
              "      <th>9</th>\n",
              "      <td>0000010.jpg</td>\n",
              "      <td>00/00/00</td>\n",
              "      <td>00:00:00</td>\n",
              "      <td>0.00</td>\n",
              "      <td>00000000000</td>\n",
              "    </tr>\n",
              "  </tbody>\n",
              "</table>\n",
              "</div>\n",
              "    <div class=\"colab-df-buttons\">\n",
              "\n",
              "  <div class=\"colab-df-container\">\n",
              "    <button class=\"colab-df-convert\" onclick=\"convertToInteractive('df-47294cec-089a-40ac-8c1f-df94e34d2a21')\"\n",
              "            title=\"Convert this dataframe to an interactive table.\"\n",
              "            style=\"display:none;\">\n",
              "\n",
              "  <svg xmlns=\"http://www.w3.org/2000/svg\" height=\"24px\" viewBox=\"0 -960 960 960\">\n",
              "    <path d=\"M120-120v-720h720v720H120Zm60-500h600v-160H180v160Zm220 220h160v-160H400v160Zm0 220h160v-160H400v160ZM180-400h160v-160H180v160Zm440 0h160v-160H620v160ZM180-180h160v-160H180v160Zm440 0h160v-160H620v160Z\"/>\n",
              "  </svg>\n",
              "    </button>\n",
              "\n",
              "  <style>\n",
              "    .colab-df-container {\n",
              "      display:flex;\n",
              "      gap: 12px;\n",
              "    }\n",
              "\n",
              "    .colab-df-convert {\n",
              "      background-color: #E8F0FE;\n",
              "      border: none;\n",
              "      border-radius: 50%;\n",
              "      cursor: pointer;\n",
              "      display: none;\n",
              "      fill: #1967D2;\n",
              "      height: 32px;\n",
              "      padding: 0 0 0 0;\n",
              "      width: 32px;\n",
              "    }\n",
              "\n",
              "    .colab-df-convert:hover {\n",
              "      background-color: #E2EBFA;\n",
              "      box-shadow: 0px 1px 2px rgba(60, 64, 67, 0.3), 0px 1px 3px 1px rgba(60, 64, 67, 0.15);\n",
              "      fill: #174EA6;\n",
              "    }\n",
              "\n",
              "    .colab-df-buttons div {\n",
              "      margin-bottom: 4px;\n",
              "    }\n",
              "\n",
              "    [theme=dark] .colab-df-convert {\n",
              "      background-color: #3B4455;\n",
              "      fill: #D2E3FC;\n",
              "    }\n",
              "\n",
              "    [theme=dark] .colab-df-convert:hover {\n",
              "      background-color: #434B5C;\n",
              "      box-shadow: 0px 1px 3px 1px rgba(0, 0, 0, 0.15);\n",
              "      filter: drop-shadow(0px 1px 2px rgba(0, 0, 0, 0.3));\n",
              "      fill: #FFFFFF;\n",
              "    }\n",
              "  </style>\n",
              "\n",
              "    <script>\n",
              "      const buttonEl =\n",
              "        document.querySelector('#df-47294cec-089a-40ac-8c1f-df94e34d2a21 button.colab-df-convert');\n",
              "      buttonEl.style.display =\n",
              "        google.colab.kernel.accessAllowed ? 'block' : 'none';\n",
              "\n",
              "      async function convertToInteractive(key) {\n",
              "        const element = document.querySelector('#df-47294cec-089a-40ac-8c1f-df94e34d2a21');\n",
              "        const dataTable =\n",
              "          await google.colab.kernel.invokeFunction('convertToInteractive',\n",
              "                                                    [key], {});\n",
              "        if (!dataTable) return;\n",
              "\n",
              "        const docLinkHtml = 'Like what you see? Visit the ' +\n",
              "          '<a target=\"_blank\" href=https://colab.research.google.com/notebooks/data_table.ipynb>data table notebook</a>'\n",
              "          + ' to learn more about interactive tables.';\n",
              "        element.innerHTML = '';\n",
              "        dataTable['output_type'] = 'display_data';\n",
              "        await google.colab.output.renderOutput(dataTable, element);\n",
              "        const docLink = document.createElement('div');\n",
              "        docLink.innerHTML = docLinkHtml;\n",
              "        element.appendChild(docLink);\n",
              "      }\n",
              "    </script>\n",
              "  </div>\n",
              "\n",
              "\n",
              "    <div id=\"df-6b1f0fdd-92d2-4b97-9e2a-6051a9018a90\">\n",
              "      <button class=\"colab-df-quickchart\" onclick=\"quickchart('df-6b1f0fdd-92d2-4b97-9e2a-6051a9018a90')\"\n",
              "                title=\"Suggest charts\"\n",
              "                style=\"display:none;\">\n",
              "\n",
              "<svg xmlns=\"http://www.w3.org/2000/svg\" height=\"24px\"viewBox=\"0 0 24 24\"\n",
              "     width=\"24px\">\n",
              "    <g>\n",
              "        <path d=\"M19 3H5c-1.1 0-2 .9-2 2v14c0 1.1.9 2 2 2h14c1.1 0 2-.9 2-2V5c0-1.1-.9-2-2-2zM9 17H7v-7h2v7zm4 0h-2V7h2v10zm4 0h-2v-4h2v4z\"/>\n",
              "    </g>\n",
              "</svg>\n",
              "      </button>\n",
              "\n",
              "<style>\n",
              "  .colab-df-quickchart {\n",
              "      --bg-color: #E8F0FE;\n",
              "      --fill-color: #1967D2;\n",
              "      --hover-bg-color: #E2EBFA;\n",
              "      --hover-fill-color: #174EA6;\n",
              "      --disabled-fill-color: #AAA;\n",
              "      --disabled-bg-color: #DDD;\n",
              "  }\n",
              "\n",
              "  [theme=dark] .colab-df-quickchart {\n",
              "      --bg-color: #3B4455;\n",
              "      --fill-color: #D2E3FC;\n",
              "      --hover-bg-color: #434B5C;\n",
              "      --hover-fill-color: #FFFFFF;\n",
              "      --disabled-bg-color: #3B4455;\n",
              "      --disabled-fill-color: #666;\n",
              "  }\n",
              "\n",
              "  .colab-df-quickchart {\n",
              "    background-color: var(--bg-color);\n",
              "    border: none;\n",
              "    border-radius: 50%;\n",
              "    cursor: pointer;\n",
              "    display: none;\n",
              "    fill: var(--fill-color);\n",
              "    height: 32px;\n",
              "    padding: 0;\n",
              "    width: 32px;\n",
              "  }\n",
              "\n",
              "  .colab-df-quickchart:hover {\n",
              "    background-color: var(--hover-bg-color);\n",
              "    box-shadow: 0 1px 2px rgba(60, 64, 67, 0.3), 0 1px 3px 1px rgba(60, 64, 67, 0.15);\n",
              "    fill: var(--button-hover-fill-color);\n",
              "  }\n",
              "\n",
              "  .colab-df-quickchart-complete:disabled,\n",
              "  .colab-df-quickchart-complete:disabled:hover {\n",
              "    background-color: var(--disabled-bg-color);\n",
              "    fill: var(--disabled-fill-color);\n",
              "    box-shadow: none;\n",
              "  }\n",
              "\n",
              "  .colab-df-spinner {\n",
              "    border: 2px solid var(--fill-color);\n",
              "    border-color: transparent;\n",
              "    border-bottom-color: var(--fill-color);\n",
              "    animation:\n",
              "      spin 1s steps(1) infinite;\n",
              "  }\n",
              "\n",
              "  @keyframes spin {\n",
              "    0% {\n",
              "      border-color: transparent;\n",
              "      border-bottom-color: var(--fill-color);\n",
              "      border-left-color: var(--fill-color);\n",
              "    }\n",
              "    20% {\n",
              "      border-color: transparent;\n",
              "      border-left-color: var(--fill-color);\n",
              "      border-top-color: var(--fill-color);\n",
              "    }\n",
              "    30% {\n",
              "      border-color: transparent;\n",
              "      border-left-color: var(--fill-color);\n",
              "      border-top-color: var(--fill-color);\n",
              "      border-right-color: var(--fill-color);\n",
              "    }\n",
              "    40% {\n",
              "      border-color: transparent;\n",
              "      border-right-color: var(--fill-color);\n",
              "      border-top-color: var(--fill-color);\n",
              "    }\n",
              "    60% {\n",
              "      border-color: transparent;\n",
              "      border-right-color: var(--fill-color);\n",
              "    }\n",
              "    80% {\n",
              "      border-color: transparent;\n",
              "      border-right-color: var(--fill-color);\n",
              "      border-bottom-color: var(--fill-color);\n",
              "    }\n",
              "    90% {\n",
              "      border-color: transparent;\n",
              "      border-bottom-color: var(--fill-color);\n",
              "    }\n",
              "  }\n",
              "</style>\n",
              "\n",
              "      <script>\n",
              "        async function quickchart(key) {\n",
              "          const quickchartButtonEl =\n",
              "            document.querySelector('#' + key + ' button');\n",
              "          quickchartButtonEl.disabled = true;  // To prevent multiple clicks.\n",
              "          quickchartButtonEl.classList.add('colab-df-spinner');\n",
              "          try {\n",
              "            const charts = await google.colab.kernel.invokeFunction(\n",
              "                'suggestCharts', [key], {});\n",
              "          } catch (error) {\n",
              "            console.error('Error during call to suggestCharts:', error);\n",
              "          }\n",
              "          quickchartButtonEl.classList.remove('colab-df-spinner');\n",
              "          quickchartButtonEl.classList.add('colab-df-quickchart-complete');\n",
              "        }\n",
              "        (() => {\n",
              "          let quickchartButtonEl =\n",
              "            document.querySelector('#df-6b1f0fdd-92d2-4b97-9e2a-6051a9018a90 button');\n",
              "          quickchartButtonEl.style.display =\n",
              "            google.colab.kernel.accessAllowed ? 'block' : 'none';\n",
              "        })();\n",
              "      </script>\n",
              "    </div>\n",
              "\n",
              "    </div>\n",
              "  </div>\n"
            ],
            "application/vnd.google.colaboratory.intrinsic+json": {
              "type": "dataframe",
              "variable_name": "df",
              "summary": "{\n  \"name\": \"df\",\n  \"rows\": 764,\n  \"fields\": [\n    {\n      \"column\": \"filename\",\n      \"properties\": {\n        \"dtype\": \"string\",\n        \"num_unique_values\": 764,\n        \"samples\": [\n          \"0000358.jpg\",\n          \"0000260.jpg\",\n          \"0000751.jpg\"\n        ],\n        \"semantic_type\": \"\",\n        \"description\": \"\"\n      }\n    },\n    {\n      \"column\": \"data\",\n      \"properties\": {\n        \"dtype\": \"category\",\n        \"num_unique_values\": 66,\n        \"samples\": [\n          \"Stampato:00.00.0000\",\n          \"00.0.0000\",\n          \"00/00/00\"\n        ],\n        \"semantic_type\": \"\",\n        \"description\": \"\"\n      }\n    },\n    {\n      \"column\": \"ora\",\n      \"properties\": {\n        \"dtype\": \"category\",\n        \"num_unique_values\": 33,\n        \"samples\": [\n          \"HORA:00:00\",\n          \"00 00.00\",\n          \":00:00\"\n        ],\n        \"semantic_type\": \"\",\n        \"description\": \"\"\n      }\n    },\n    {\n      \"column\": \"totale\",\n      \"properties\": {\n        \"dtype\": \"category\",\n        \"num_unique_values\": 52,\n        \"samples\": [\n          \"0,000.00\",\n          \"0,0\",\n          \"00/00/0000\"\n        ],\n        \"semantic_type\": \"\",\n        \"description\": \"\"\n      }\n    },\n    {\n      \"column\": \"partita iva\",\n      \"properties\": {\n        \"dtype\": \"category\",\n        \"num_unique_values\": 52,\n        \"samples\": [\n          \"PI00000000000\",\n          \"ACU00000000Q\",\n          \"HICM000000U00\"\n        ],\n        \"semantic_type\": \"\",\n        \"description\": \"\"\n      }\n    }\n  ]\n}"
            }
          },
          "metadata": {},
          "execution_count": 1
        }
      ],
      "source": [
        "import pandas as pd\n",
        "path=\"/content/drive/MyDrive/dataset/receipt_challenge_dataset.csv.csv\"\n",
        "df=pd.read_csv(path)\n",
        "df.head(10)"
      ]
    },
    {
      "cell_type": "code",
      "source": [
        "# Visualizzare info dataset\n",
        "df.info()"
      ],
      "metadata": {
        "colab": {
          "base_uri": "https://localhost:8080/"
        },
        "id": "6Vsip8qcn7Vk",
        "outputId": "90758602-e316-448f-a57b-bc22267bb80d"
      },
      "execution_count": 2,
      "outputs": [
        {
          "output_type": "stream",
          "name": "stdout",
          "text": [
            "<class 'pandas.core.frame.DataFrame'>\n",
            "RangeIndex: 764 entries, 0 to 763\n",
            "Data columns (total 5 columns):\n",
            " #   Column       Non-Null Count  Dtype \n",
            "---  ------       --------------  ----- \n",
            " 0   filename     764 non-null    object\n",
            " 1   data         760 non-null    object\n",
            " 2   ora          755 non-null    object\n",
            " 3   totale       761 non-null    object\n",
            " 4   partita iva  762 non-null    object\n",
            "dtypes: object(5)\n",
            "memory usage: 30.0+ KB\n"
          ]
        }
      ]
    },
    {
      "cell_type": "code",
      "source": [
        "# Verificare valori unici nella colonna data includendo i NaN\n",
        "valori_unici = pd.unique(df['data'])\n",
        "print(\"Valori unici (inclusi NaN se presenti):\", valori_unici)"
      ],
      "metadata": {
        "colab": {
          "base_uri": "https://localhost:8080/"
        },
        "id": "hBuyCN-dn-mj",
        "outputId": "803d0187-0527-4b20-a856-d5fe7abdae1b"
      },
      "execution_count": 3,
      "outputs": [
        {
          "output_type": "stream",
          "name": "stdout",
          "text": [
            "Valori unici (inclusi NaN se presenti): ['00/00/00' '00.0.00000' '00-00-0000' '00/00/0000' '0000/00/00' '0/000'\n",
            " '00.00.0000' '000.00.00' '0 mag 0000' '0/0/00' '00.00.00' '0000-00-00'\n",
            " '00 mayo 0000' '0/0/0000' nan 'ORA:' 'del:00/00/0000' '00/00/ 0000'\n",
            " '00/00' 'Maggio 00, 0000' '00-00-00' '0000.00.00' '0 000' '00 00 00(00%'\n",
            " '0/00/00' '00/00/0' '00 giu 0000' 'Thu 00 Jun 0000' '00/giu/0000'\n",
            " 'Q0-00-0000' '0000. 00.00' '0G 00%' '00 maggio 0000' '0/00/0000'\n",
            " '0000.00.00.' '00 giugno 0000' '00.00.0000,' '00MAY00' '00/00/00,'\n",
            " '00.00' '00. Juni 0000' '00-JUN-00' '00 dic 0000' '00 00 00' 'Data:'\n",
            " '00 May 0000,' '00' '00/0000:00' '00- 00.0000' '00/0/00' '00/00/'\n",
            " 'Date:00-00-0000' 'June 00, 0000' '0 LUGNO 0000' '00/00/00-00:00'\n",
            " 'Stampato:00.00.0000' '00 May 00' '000000' '00 gen 0000'\n",
            " '00. giugno 0000' '000 00 00' 'Stampato:00.00 .0000'\n",
            " '00-00-0000-00.00.00)' '00.0.0000' '00 JUN 0000' ':00-MAY-0000'\n",
            " '00/00/00)']\n"
          ]
        }
      ]
    },
    {
      "cell_type": "code",
      "source": [
        "# Funzione per identificare anomalie nella colonna data\n",
        "def analizza_anomalie_data(df):\n",
        "    anomalie = {}\n",
        "\n",
        "    # Verificare se ci sono valori NaN nella colonna data\n",
        "    anomalie['valori_nani'] = df[df['data'].isna()]\n",
        "\n",
        "    # Verificare che la data non sia esattamente 00/00/0000, ma escludendo i NaN\n",
        "    anomalie['date_non_conformi'] = df[(df['data'] != '00/00/0000') & (df['data'].notna())]\n",
        "\n",
        "    # Calcolare totale delle anomalie\n",
        "    anomalie['totale_anomalie'] = anomalie['valori_nani'].shape[0] + anomalie['date_non_conformi'].shape[0]\n",
        "\n",
        "    return anomalie\n",
        "\n",
        "# Analizzare anomalie nella colonna data\n",
        "anomalie = analizza_anomalie_data(df)\n",
        "\n",
        "# Mostrare totale delle anomalie e le anomalie separate\n",
        "print(f\"Totale anomalie: {anomalie['totale_anomalie']} anomalie\\n\")\n",
        "\n",
        "print(\"Anomalie separate:\")\n",
        "\n",
        "for tipo, anomalie_df in anomalie.items():\n",
        "    if tipo != 'totale_anomalie':  # Non stampare il totale qui\n",
        "        print(f\"\\n{tipo}: {anomalie_df.shape[0]} anomalie\")"
      ],
      "metadata": {
        "colab": {
          "base_uri": "https://localhost:8080/"
        },
        "id": "QM8xXRsGoBHG",
        "outputId": "7c6fc83e-af72-491a-90fb-db7a6e88e831"
      },
      "execution_count": 23,
      "outputs": [
        {
          "output_type": "stream",
          "name": "stdout",
          "text": [
            "Totale anomalie: 619 anomalie\n",
            "\n",
            "Anomalie separate:\n",
            "\n",
            "valori_nani: 4 anomalie\n",
            "\n",
            "date_non_conformi: 615 anomalie\n"
          ]
        }
      ]
    },
    {
      "cell_type": "code",
      "source": [
        "# Conteggio dei valori unici (escludendo '00/00/0000') e dei NaN nella colonna 'data'\n",
        "valori_unici = df['data'].replace('00/00/0000', pd.NA).value_counts(dropna=False)\n",
        "\n",
        "# Visualizza l'output\n",
        "print(\"Conteggio dei valori unici (escludendo '00/00/0000') nella colonna 'data':\")\n",
        "print(valori_unici)"
      ],
      "metadata": {
        "colab": {
          "base_uri": "https://localhost:8080/"
        },
        "id": "T98X3go9oMpg",
        "outputId": "dfaaf4df-1f3d-4cca-9f43-25fdaf2edffc"
      },
      "execution_count": 38,
      "outputs": [
        {
          "output_type": "stream",
          "name": "stdout",
          "text": [
            "Conteggio dei valori unici (escludendo '00/00/0000') nella colonna 'data':\n",
            "data\n",
            "00-00-0000              283\n",
            "00/00/00                204\n",
            "<NA>                    145\n",
            "00.00.0000               21\n",
            "00.00.00                 10\n",
            "0/000                     9\n",
            "0000-00-00                6\n",
            "00-00-00                  5\n",
            "00/00                     5\n",
            "0000.00.00                4\n",
            "NaN                       4\n",
            "0/00/00                   4\n",
            "0/0/0000                  3\n",
            "Stampato:00.00.0000       2\n",
            "Maggio 00, 0000           2\n",
            "0/00/0000                 2\n",
            "00 giu 0000               2\n",
            "00.00                     2\n",
            "00 giugno 0000            2\n",
            "00                        2\n",
            "00.0.00000                1\n",
            "ORA:                      1\n",
            "00 mayo 0000              1\n",
            "00/00/ 0000               1\n",
            "del:00/00/0000            1\n",
            "00 00 00(00%              1\n",
            "0 000                     1\n",
            "00/00/0                   1\n",
            "Thu 00 Jun 0000           1\n",
            "Q0-00-0000                1\n",
            "00/giu/0000               1\n",
            "0000/00/00                1\n",
            "000.00.00                 1\n",
            "0/0/00                    1\n",
            "0 mag 0000                1\n",
            "0000.00.00.               1\n",
            "00 maggio 0000            1\n",
            "0G 00%                    1\n",
            "0000. 00.00               1\n",
            "00/00/00,                 1\n",
            "00. Juni 0000             1\n",
            "00-JUN-00                 1\n",
            "00MAY00                   1\n",
            "00 dic 0000               1\n",
            "00 00 00                  1\n",
            "Data:                     1\n",
            "00 May 0000,              1\n",
            "00/0000:00                1\n",
            "00- 00.0000               1\n",
            "00/0/00                   1\n",
            "00.00.0000,               1\n",
            "00/00/                    1\n",
            "Date:00-00-0000           1\n",
            "0 LUGNO 0000              1\n",
            "June 00, 0000             1\n",
            "00/00/00-00:00            1\n",
            "00 May 00                 1\n",
            "000000                    1\n",
            "00 gen 0000               1\n",
            "00. giugno 0000           1\n",
            "000 00 00                 1\n",
            "Stampato:00.00 .0000      1\n",
            "00-00-0000-00.00.00)      1\n",
            "00.0.0000                 1\n",
            "00 JUN 0000               1\n",
            ":00-MAY-0000              1\n",
            "00/00/00)                 1\n",
            "Name: count, dtype: int64\n"
          ]
        }
      ]
    },
    {
      "cell_type": "code",
      "source": [
        "# Verificare valori unici nella colonna ora includendo i NaN\n",
        "valori_unici = pd.unique(df['ora'])\n",
        "print(\"Valori unici (inclusi NaN se presenti):\", valori_unici)"
      ],
      "metadata": {
        "colab": {
          "base_uri": "https://localhost:8080/"
        },
        "id": "CmOuhAksoQI8",
        "outputId": "68b5be2d-4136-4e85-96b8-a89dbae2bbc0"
      },
      "execution_count": 6,
      "outputs": [
        {
          "output_type": "stream",
          "name": "stdout",
          "text": [
            "Valori unici (inclusi NaN se presenti): ['00:00' '00:00:00' '0:00:00' 'Ora:00:00' nan '00.00' '00 00 00'\n",
            " '00.00.00' '00:0' '00-00' '00/00' '00 00' '0:00' '00:00h' '00h00'\n",
            " '00 :00' '00 00.00' '00:00PM' '00:00:00,' ':00:00@' '00:0B' '-00:00'\n",
            " 'ORA00:00' '0 :00' '00:00H' '00 00:00PM' '00:00:' ':00:00'\n",
            " 'Fecha:00.00.00' 'Hora:00:00' 'Ora:' '0000:00' 'HORA:00:00' '00']\n"
          ]
        }
      ]
    },
    {
      "cell_type": "code",
      "source": [
        "# Funzione per identificare anomalie nella colonna ora\n",
        "def analizza_anomalie_ora(df):\n",
        "    anomalie = {}\n",
        "\n",
        "    # Verificare se ci sono valori NaN nella colonna ora\n",
        "    anomalie['valori_nani'] = df[df['ora'].isna()]\n",
        "\n",
        "    # Verificare che la ora non sia esattamente 00:00, escludendo i NaN\n",
        "    anomalie['ora_non_conformi'] = df[(df['ora'] != '00:00') & (df['ora'].notna())]\n",
        "\n",
        "    # Calcolare totale delle anomalie\n",
        "    anomalie['totale_anomalie'] = anomalie['valori_nani'].shape[0] + anomalie['ora_non_conformi'].shape[0]\n",
        "\n",
        "    return anomalie\n",
        "\n",
        "# Analizzare anomalie nella colonna ora\n",
        "anomalie = analizza_anomalie_ora(df)\n",
        "\n",
        "# Mostrare totale delle anomalie e le anomalie separate\n",
        "print(f\"Totale anomalie: {anomalie['totale_anomalie']} anomalie\\n\")\n",
        "\n",
        "print(\"Anomalie separate:\")\n",
        "\n",
        "for tipo, anomalie_df in anomalie.items():\n",
        "    if tipo != 'totale_anomalie':  # Non stampare il totale qui\n",
        "        print(f\"\\n{tipo}: {anomalie_df.shape[0]} anomalie\")"
      ],
      "metadata": {
        "colab": {
          "base_uri": "https://localhost:8080/"
        },
        "id": "6XjFIageoXXC",
        "outputId": "d6faaf3d-0e4d-47d9-d510-bb36a8f07686"
      },
      "execution_count": 7,
      "outputs": [
        {
          "output_type": "stream",
          "name": "stdout",
          "text": [
            "Totale anomalie: 155 anomalie\n",
            "\n",
            "Anomalie separate:\n",
            "\n",
            "valori_nani: 9 anomalie\n",
            "\n",
            "ora_non_conformi: 146 anomalie\n"
          ]
        }
      ]
    },
    {
      "cell_type": "code",
      "source": [
        "# Conteggio dei valori unici (escludendo '00:00') e dei NaN nella colonna 'ora'\n",
        "valori_unici = df['ora'].replace('00:00', pd.NA).value_counts(dropna=False)\n",
        "\n",
        "# Visualizza l'output\n",
        "print(\"Conteggio dei valori unici (escludendo '00:00') nella colonna 'ora':\")\n",
        "print(valori_unici)"
      ],
      "metadata": {
        "colab": {
          "base_uri": "https://localhost:8080/"
        },
        "id": "wsEMtvWToc6B",
        "outputId": "78a4758f-52b7-495b-f06a-ebf9d3ff30b6"
      },
      "execution_count": 35,
      "outputs": [
        {
          "output_type": "stream",
          "name": "stdout",
          "text": [
            "Conteggio dei valori unici (escludendo '00:00') nella colonna 'ora':\n",
            "ora\n",
            "<NA>              609\n",
            "00:00:00           86\n",
            "00.00.00           11\n",
            "NaN                 9\n",
            "00.00               7\n",
            "0:00                5\n",
            "00:00h              4\n",
            "Ora:00:00           3\n",
            "0:00:00             3\n",
            "00 00               2\n",
            "-00:00              2\n",
            "00-00               1\n",
            "00 00 00            1\n",
            "00:0                1\n",
            "00h00               1\n",
            "00 :00              1\n",
            "00 00.00            1\n",
            "00/00               1\n",
            "00:00PM             1\n",
            "00:00:00,           1\n",
            ":00:00@             1\n",
            "00:0B               1\n",
            "ORA00:00            1\n",
            "0 :00               1\n",
            "00:00H              1\n",
            "00 00:00PM          1\n",
            "00:00:              1\n",
            ":00:00              1\n",
            "Fecha:00.00.00      1\n",
            "Hora:00:00          1\n",
            "Ora:                1\n",
            "0000:00             1\n",
            "HORA:00:00          1\n",
            "00                  1\n",
            "Name: count, dtype: int64\n"
          ]
        }
      ]
    },
    {
      "cell_type": "code",
      "source": [
        "# Verificare valori unici nella colonna totale includendo i NaN\n",
        "valori_unici = pd.unique(df['totale'])\n",
        "print(\"Valori unici (inclusi NaN se presenti):\", valori_unici)"
      ],
      "metadata": {
        "colab": {
          "base_uri": "https://localhost:8080/"
        },
        "id": "SDuMj-EhpPAj",
        "outputId": "59fa77b0-a171-4f77-9052-81d7c9a1eebb"
      },
      "execution_count": 10,
      "outputs": [
        {
          "output_type": "stream",
          "name": "stdout",
          "text": [
            "Valori unici (inclusi NaN se presenti): ['€0,00' '00,00' '00,' '0,00' '$00.00' '0.00' '00.00' '0.00€' '0 000'\n",
            " '0.000,00' '00,00%' '00' '000.00' '000,00' '00,0' '0.000,000000'\n",
            " '0,000000' '-00,00€' '00 00' '0,000.00' nan '€00,00' '0000,' '0000'\n",
            " '00,00€' '000' '€0.00' '00,000' '£0.00' '00 000' '0,00E' '-000,00' '0'\n",
            " '00.' '0.00 00' '$' '00.0' '$000.00' '00€' '00, 00' '-0,00€' '000 00'\n",
            " '0,0' '0, 00' '00000' '00. 00' '0,00€' '00. 00EUR' '00/00/0000' '0/00'\n",
            " '00,000.00' '0,000' '00,0000']\n"
          ]
        }
      ]
    },
    {
      "cell_type": "code",
      "source": [
        "# Funzione per identificare anomalie nella colonna totale\n",
        "def analizza_anomalie_totale(df):\n",
        "    anomalie = {}\n",
        "\n",
        "    # Verificare se ci sono valori NaN nella colonna totale\n",
        "    anomalie['valori_nani'] = df[df['totale'].isna()]\n",
        "\n",
        "    # Verificare che la data non sia esattamente 00,00, ma escludendo i NaN\n",
        "    anomalie['totale_non_conformi'] = df[(df['totale'] != '00,00') & (df['totale'].notna())]\n",
        "\n",
        "    # Calcolare totale delle anomalie\n",
        "    anomalie['totale_anomalie'] = anomalie['valori_nani'].shape[0] + anomalie['totale_non_conformi'].shape[0]\n",
        "\n",
        "    return anomalie\n",
        "\n",
        "# Analizzare anomalie nella colonna data\n",
        "anomalie = analizza_anomalie_totale(df)\n",
        "\n",
        "# Mostrare totale delle anomalie e le anomalie separate\n",
        "print(f\"Totale anomalie: {anomalie['totale_anomalie']} anomalie\\n\")\n",
        "\n",
        "print(\"Anomalie separate:\")\n",
        "\n",
        "for tipo, anomalie_df in anomalie.items():\n",
        "    if tipo != 'totale_anomalie':  # Non stampare il totale qui\n",
        "        print(f\"\\n{tipo}: {anomalie_df.shape[0]} anomalie\")"
      ],
      "metadata": {
        "colab": {
          "base_uri": "https://localhost:8080/"
        },
        "id": "Qpn9WjIEpih-",
        "outputId": "e04248e4-ece8-4810-909b-dcad9be2fa23"
      },
      "execution_count": 11,
      "outputs": [
        {
          "output_type": "stream",
          "name": "stdout",
          "text": [
            "Totale anomalie: 480 anomalie\n",
            "\n",
            "Anomalie separate:\n",
            "\n",
            "valori_nani: 3 anomalie\n",
            "\n",
            "totale_non_conformi: 477 anomalie\n"
          ]
        }
      ]
    },
    {
      "cell_type": "code",
      "source": [
        "# Conteggio dei valori unici (escludendo '00,00') e dei NaN nella colonna 'totale'\n",
        "valori_unici = df['totale'].replace('00,00', pd.NA).value_counts(dropna=False)\n",
        "\n",
        "# Visualizza l'output\n",
        "print(\"Conteggio dei valori unici (escludendo '00,00') nella colonna 'totale':\")\n",
        "print(valori_unici)"
      ],
      "metadata": {
        "colab": {
          "base_uri": "https://localhost:8080/"
        },
        "id": "y8yeU7lmpnLq",
        "outputId": "3f3aa96f-71fa-493d-f034-65575334057c"
      },
      "execution_count": 34,
      "outputs": [
        {
          "output_type": "stream",
          "name": "stdout",
          "text": [
            "Conteggio dei valori unici (escludendo '00,00') nella colonna 'totale':\n",
            "totale\n",
            "<NA>            284\n",
            "0,00            176\n",
            "00.00            68\n",
            "0.00             67\n",
            "000,00           45\n",
            "0.00€            11\n",
            "000.00            9\n",
            "€0.00             7\n",
            "€0,00             6\n",
            "-00,00€           6\n",
            "0.000,000000      5\n",
            "0.000,00          5\n",
            "0,000000          5\n",
            "$000.00           5\n",
            "00                4\n",
            "0 000             4\n",
            "0,000.00          4\n",
            "€00,00            4\n",
            "000               4\n",
            "NaN               3\n",
            "00,               2\n",
            "00,000.00         2\n",
            "00,0              2\n",
            "00,00%            2\n",
            "$00.00            2\n",
            "00,000            2\n",
            "00 000            2\n",
            "0,0               2\n",
            "0000              2\n",
            "00 00             1\n",
            "£0.00             1\n",
            "-000,00           1\n",
            "0                 1\n",
            "00.               1\n",
            "0,00E             1\n",
            "00,00€            1\n",
            "0000,             1\n",
            "00.0              1\n",
            "$                 1\n",
            "0.00 00           1\n",
            "00, 00            1\n",
            "-0,00€            1\n",
            "000 00            1\n",
            "0, 00             1\n",
            "00€               1\n",
            "00000             1\n",
            "00. 00            1\n",
            "00. 00EUR         1\n",
            "0,00€             1\n",
            "00/00/0000        1\n",
            "0/00              1\n",
            "0,000             1\n",
            "00,0000           1\n",
            "Name: count, dtype: int64\n"
          ]
        }
      ]
    },
    {
      "cell_type": "code",
      "source": [
        "# Verificare valori unici nella colonna data includendo i NaN\n",
        "valori_unici = pd.unique(df['partita iva'])\n",
        "print(\"Valori unici (inclusi NaN se presenti):\", valori_unici)"
      ],
      "metadata": {
        "colab": {
          "base_uri": "https://localhost:8080/"
        },
        "id": "GzVzmKFYqeYT",
        "outputId": "01f93eaa-a233-44f4-b760-1fb84c2b9df6"
      },
      "execution_count": 19,
      "outputs": [
        {
          "output_type": "stream",
          "name": "stdout",
          "text": [
            "Valori unici (inclusi NaN se presenti): ['00000000000' '00000000000;' '00000000-0-00' '00000000000\"'\n",
            " 'ACU000000000' '0000/00000' '000000 00000' 'IT00000000000' 'A-00000000'\n",
            " '00000000000->00' '0000000000' 'B00000000' 'C.F./P.I.00000000000'\n",
            " 'P.I.00000000000' 'NIF:P_0000000_B' '000000000000' 'ATU 00000000'\n",
            " '00000000000-TEL.' 'NIF:A-00000000' 'PI00000000000' 'FR00000000000'\n",
            " '0000000 0000' '00000000000,' 'FR 00 000 000 000' 'IT 00000000000'\n",
            " 'GB 000 0000 00' 'SI00000000' 'FR 00000000000' 'HU00000000'\n",
            " '00000000000.' 'A00000000' '000000000' '/P.I.00000000000'\n",
            " '.I.00000000000' nan 'RNC-000-00000-0' '00000000000/REA' 'ATU00000000'\n",
            " 'P,IVA:00000000000' 'F./P.I.00000000000' 'IVA:IT(00000000000'\n",
            " '00 000 000 000' 'ACU00000000Q' '.00000000000' 'B-00000000' 'LU 00000000'\n",
            " 'B 00000000' 'FR00 000 000 000' 'HICM000000U00' '00N000000IC0'\n",
            " 'IVA00000000000' '00000000/00' '00000000 00']\n"
          ]
        }
      ]
    },
    {
      "cell_type": "code",
      "source": [
        "# Funzione per identificare anomalie nella colonna partita iva\n",
        "def analizza_anomalie_partita_iva(df):\n",
        "    anomalie = {}\n",
        "\n",
        "    # Verificare se ci sono valori NaN nella colonna partita iva\n",
        "    anomalie['valori_nani'] = df[df['partita iva'].isna()]\n",
        "\n",
        "    # Verificare che la partita iva non sia esattamente 00000000000, escludendo i NaN\n",
        "    anomalie['partite_iva_non_conformi'] = df[(df['partita iva'] != '00000000000') & (df['partita iva'].notna())]\n",
        "\n",
        "    # Calcolare il totale delle anomalie\n",
        "    anomalie['totale_anomalie'] = anomalie['valori_nani'].shape[0] + anomalie['partite_iva_non_conformi'].shape[0]\n",
        "\n",
        "    return anomalie\n",
        "\n",
        "# Analizzare anomalie nella colonna partita iva\n",
        "anomalie = analizza_anomalie_partita_iva(df)\n",
        "\n",
        "# Mostrare totale delle anomalie e le anomalie separate\n",
        "print(f\"Totale anomalie: {anomalie['totale_anomalie']} anomalie\\n\")\n",
        "\n",
        "print(\"Anomalie separate:\")\n",
        "\n",
        "for tipo, anomalie_df in anomalie.items():\n",
        "    if tipo != 'totale_anomalie':  # Non stampare il totale qui\n",
        "        print(f\"\\n{tipo}: {anomalie_df.shape[0]} anomalie\")"
      ],
      "metadata": {
        "colab": {
          "base_uri": "https://localhost:8080/"
        },
        "id": "EjFyN4b7tTmY",
        "outputId": "2a5fdded-f3f2-4799-9b82-7929726d0ec9"
      },
      "execution_count": 20,
      "outputs": [
        {
          "output_type": "stream",
          "name": "stdout",
          "text": [
            "Totale anomalie: 105 anomalie\n",
            "\n",
            "Anomalie separate:\n",
            "\n",
            "valori_nani: 2 anomalie\n",
            "\n",
            "partite_iva_non_conformi: 103 anomalie\n"
          ]
        }
      ]
    },
    {
      "cell_type": "code",
      "source": [
        "# Conteggio dei valori unici (escludendo '00000000000') e dei NaN nella colonna 'partita iva'\n",
        "valori_unici = df['partita iva'].replace('00000000000', pd.NA).value_counts(dropna=False)\n",
        "\n",
        "# Visualizza l'output\n",
        "print(\"Conteggio dei valori unici (escludendo '00000000000') nella colonna 'partita iva':\")\n",
        "print(valori_unici)"
      ],
      "metadata": {
        "colab": {
          "base_uri": "https://localhost:8080/"
        },
        "id": "CeGaQBbOteVl",
        "outputId": "b9193be1-b8f9-4646-b5d1-1cd7c86bb955"
      },
      "execution_count": 31,
      "outputs": [
        {
          "output_type": "stream",
          "name": "stdout",
          "text": [
            "Conteggio dei valori unici (escludendo '00000000000') nella colonna 'partita iva':\n",
            "partita iva\n",
            "<NA>                    659\n",
            "A-00000000               11\n",
            "IT00000000000             9\n",
            "00000000-0-00             6\n",
            "P.I.00000000000           5\n",
            "0000000000                4\n",
            "00000000000,              4\n",
            "FR00000000000             3\n",
            "000000000000              3\n",
            "000000000                 3\n",
            "00000000000-TEL.          2\n",
            "PI00000000000             2\n",
            "00000000000;              2\n",
            "B00000000                 2\n",
            "NIF:P_0000000_B           2\n",
            "A00000000                 2\n",
            "/P.I.00000000000          2\n",
            "FR 00 000 000 000         2\n",
            "IT 00000000000            2\n",
            "C.F./P.I.00000000000      2\n",
            "0000/00000                2\n",
            "NaN                       2\n",
            "SI00000000                2\n",
            "00000000000.              2\n",
            "ATU 00000000              1\n",
            "00000000000\"              1\n",
            "ACU000000000              1\n",
            "000000 00000              1\n",
            "00000000000->00           1\n",
            "NIF:A-00000000            1\n",
            "FR 00000000000            1\n",
            "GB 000 0000 00            1\n",
            "0000000 0000              1\n",
            "HU00000000                1\n",
            ".I.00000000000            1\n",
            "RNC-000-00000-0           1\n",
            "00000000000/REA           1\n",
            "ATU00000000               1\n",
            "P,IVA:00000000000         1\n",
            "F./P.I.00000000000        1\n",
            "IVA:IT(00000000000        1\n",
            "00 000 000 000            1\n",
            "ACU00000000Q              1\n",
            ".00000000000              1\n",
            "B-00000000                1\n",
            "LU 00000000               1\n",
            "B 00000000                1\n",
            "FR00 000 000 000          1\n",
            "HICM000000U00             1\n",
            "00N000000IC0              1\n",
            "IVA00000000000            1\n",
            "00000000/00               1\n",
            "00000000 00               1\n",
            "Name: count, dtype: int64\n"
          ]
        }
      ]
    },
    {
      "cell_type": "markdown",
      "source": [],
      "metadata": {
        "id": "xaHeJzXzyaM4"
      }
    }
  ]
}
